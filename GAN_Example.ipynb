{
  "nbformat": 4,
  "nbformat_minor": 0,
  "metadata": {
    "colab": {
      "name": "GAN-Example.ipynb",
      "provenance": [],
      "collapsed_sections": []
    },
    "kernelspec": {
      "name": "python3",
      "display_name": "Python 3"
    },
    "accelerator": "GPU"
  },
  "cells": [
    {
      "cell_type": "code",
      "metadata": {
        "id": "1pB95ZdVXYPG",
        "colab_type": "code",
        "colab": {}
      },
      "source": [
        ""
      ],
      "execution_count": 0,
      "outputs": []
    },
    {
      "cell_type": "code",
      "metadata": {
        "id": "H5fNqBd1XdnL",
        "colab_type": "code",
        "outputId": "725eeb1b-931c-4591-d82f-fc7457011046",
        "colab": {
          "base_uri": "https://localhost:8080/",
          "height": 54
        }
      },
      "source": [
        "from google.colab import drive\n",
        "drive.mount('/content/drive')"
      ],
      "execution_count": 1,
      "outputs": [
        {
          "output_type": "stream",
          "text": [
            "Drive already mounted at /content/drive; to attempt to forcibly remount, call drive.mount(\"/content/drive\", force_remount=True).\n"
          ],
          "name": "stdout"
        }
      ]
    },
    {
      "cell_type": "code",
      "metadata": {
        "id": "NmdtdQKC8qXX",
        "colab_type": "code",
        "colab": {}
      },
      "source": [
        ""
      ],
      "execution_count": 0,
      "outputs": []
    },
    {
      "cell_type": "code",
      "metadata": {
        "id": "n2GyCivXYloX",
        "colab_type": "code",
        "outputId": "4a31f86c-04b0-428e-ca08-17520f6df0ba",
        "colab": {
          "base_uri": "https://localhost:8080/",
          "height": 80
        }
      },
      "source": [
        "import tensorflow as tf\n",
        "import numpy as np\n",
        "import matplotlib.pyplot as plt\n",
        "%matplotlib inline"
      ],
      "execution_count": 2,
      "outputs": [
        {
          "output_type": "display_data",
          "data": {
            "text/html": [
              "<p style=\"color: red;\">\n",
              "The default version of TensorFlow in Colab will soon switch to TensorFlow 2.x.<br>\n",
              "We recommend you <a href=\"https://www.tensorflow.org/guide/migrate\" target=\"_blank\">upgrade</a> now \n",
              "or ensure your notebook will continue to use TensorFlow 1.x via the <code>%tensorflow_version 1.x</code> magic:\n",
              "<a href=\"https://colab.research.google.com/notebooks/tensorflow_version.ipynb\" target=\"_blank\">more info</a>.</p>\n"
            ],
            "text/plain": [
              "<IPython.core.display.HTML object>"
            ]
          },
          "metadata": {
            "tags": []
          }
        }
      ]
    },
    {
      "cell_type": "code",
      "metadata": {
        "id": "Sx6H5OPCyiRa",
        "colab_type": "code",
        "outputId": "07719d9e-e832-483c-9e63-cdfb50d1a575",
        "colab": {
          "base_uri": "https://localhost:8080/",
          "height": 411
        }
      },
      "source": [
        "# mnist-Modified National Institute of Standards and Technology database\n",
        "# it is a large database of handwritten digits that is commonly used for training various image processing systems\n",
        "from tensorflow.examples.tutorials.mnist import input_data\n",
        "mnist = input_data.read_data_sets(\"/content/drive/My Drive/Colab Notebooks/MNIST/mnist_krishnaik\",one_hot=True)"
      ],
      "execution_count": 3,
      "outputs": [
        {
          "output_type": "stream",
          "text": [
            "WARNING:tensorflow:From <ipython-input-3-de2830d83e36>:2: read_data_sets (from tensorflow.contrib.learn.python.learn.datasets.mnist) is deprecated and will be removed in a future version.\n",
            "Instructions for updating:\n",
            "Please use alternatives such as official/mnist/dataset.py from tensorflow/models.\n",
            "WARNING:tensorflow:From /usr/local/lib/python3.6/dist-packages/tensorflow_core/contrib/learn/python/learn/datasets/mnist.py:260: maybe_download (from tensorflow.contrib.learn.python.learn.datasets.base) is deprecated and will be removed in a future version.\n",
            "Instructions for updating:\n",
            "Please write your own downloading logic.\n",
            "WARNING:tensorflow:From /usr/local/lib/python3.6/dist-packages/tensorflow_core/contrib/learn/python/learn/datasets/mnist.py:262: extract_images (from tensorflow.contrib.learn.python.learn.datasets.mnist) is deprecated and will be removed in a future version.\n",
            "Instructions for updating:\n",
            "Please use tf.data to implement this functionality.\n",
            "Extracting /content/drive/My Drive/Colab Notebooks/MNIST/mnist_krishnaik/train-images-idx3-ubyte.gz\n",
            "WARNING:tensorflow:From /usr/local/lib/python3.6/dist-packages/tensorflow_core/contrib/learn/python/learn/datasets/mnist.py:267: extract_labels (from tensorflow.contrib.learn.python.learn.datasets.mnist) is deprecated and will be removed in a future version.\n",
            "Instructions for updating:\n",
            "Please use tf.data to implement this functionality.\n",
            "Extracting /content/drive/My Drive/Colab Notebooks/MNIST/mnist_krishnaik/train-labels-idx1-ubyte.gz\n",
            "WARNING:tensorflow:From /usr/local/lib/python3.6/dist-packages/tensorflow_core/contrib/learn/python/learn/datasets/mnist.py:110: dense_to_one_hot (from tensorflow.contrib.learn.python.learn.datasets.mnist) is deprecated and will be removed in a future version.\n",
            "Instructions for updating:\n",
            "Please use tf.one_hot on tensors.\n",
            "Extracting /content/drive/My Drive/Colab Notebooks/MNIST/mnist_krishnaik/t10k-images-idx3-ubyte.gz\n",
            "Extracting /content/drive/My Drive/Colab Notebooks/MNIST/mnist_krishnaik/t10k-labels-idx1-ubyte.gz\n",
            "WARNING:tensorflow:From /usr/local/lib/python3.6/dist-packages/tensorflow_core/contrib/learn/python/learn/datasets/mnist.py:290: DataSet.__init__ (from tensorflow.contrib.learn.python.learn.datasets.mnist) is deprecated and will be removed in a future version.\n",
            "Instructions for updating:\n",
            "Please use alternatives such as official/mnist/dataset.py from tensorflow/models.\n"
          ],
          "name": "stdout"
        }
      ]
    },
    {
      "cell_type": "code",
      "metadata": {
        "id": "PmG8MAVGyo7X",
        "colab_type": "code",
        "outputId": "8dfb2804-0d66-4b60-9124-25c770d783ad",
        "colab": {
          "base_uri": "https://localhost:8080/",
          "height": 282
        }
      },
      "source": [
        "plt.imshow(mnist.train.images[0].reshape(28,28),cmap='Greys')\n",
        "\n"
      ],
      "execution_count": 4,
      "outputs": [
        {
          "output_type": "execute_result",
          "data": {
            "text/plain": [
              "<matplotlib.image.AxesImage at 0x7fe270085dd8>"
            ]
          },
          "metadata": {
            "tags": []
          },
          "execution_count": 4
        },
        {
          "output_type": "display_data",
          "data": {
            "image/png": "[encoded data removed]",
            "text/plain": [
              "<Figure size 432x288 with 1 Axes>"
            ]
          },
          "metadata": {
            "tags": []
          }
        }
      ]
    },
    {
      "cell_type": "code",
      "metadata": {
        "id": "yR6HAHoiytFz",
        "colab_type": "code",
        "colab": {}
      },
      "source": [
        ""
      ],
      "execution_count": 0,
      "outputs": []
    },
    {
      "cell_type": "markdown",
      "metadata": {
        "id": "DS9J7I7g0Q2S",
        "colab_type": "text"
      },
      "source": [
        "\n",
        "The Generator"
      ]
    },
    {
      "cell_type": "code",
      "metadata": {
        "id": "OI0wC9W10RtA",
        "colab_type": "code",
        "colab": {}
      },
      "source": [
        "def generator(z,reuse=None):   # z is the latent data point \n",
        "    with tf.variable_scope('gen',reuse=reuse):   # variable scope is gen\n",
        "        hidden1 = tf.layers.dense(inputs=z,units=128) # 1st hidden layer and units is how many neurons\n",
        "        # Leaky Relu     \n",
        "        alpha = 0.01\n",
        "        hidden1 = tf.maximum(alpha*hidden1,hidden1)\n",
        "\n",
        "\n",
        "        hidden2 = tf.layers.dense(inputs=hidden1,units=128) # 2nd hidden layer\n",
        "        hidden2 = tf.maximum(alpha*hidden2,hidden2) # leaky relu\n",
        "\n",
        "        output = tf.layers.dense(hidden2,units=784,activation=tf.nn.tanh) # output layer  784=28*28(image size)\n",
        "        return output                       # tanh activation function to the output layer"
      ],
      "execution_count": 0,
      "outputs": []
    },
    {
      "cell_type": "code",
      "metadata": {
        "id": "JLuPew3L0UEI",
        "colab_type": "code",
        "colab": {}
      },
      "source": [
        ""
      ],
      "execution_count": 0,
      "outputs": []
    },
    {
      "cell_type": "markdown",
      "metadata": {
        "id": "WmE1asEk0ZEr",
        "colab_type": "text"
      },
      "source": [
        "The Discriminator"
      ]
    },
    {
      "cell_type": "code",
      "metadata": {
        "id": "EobAttTy0Zxk",
        "colab_type": "code",
        "colab": {}
      },
      "source": [
        "def discriminator(X,reuse=None):   # same as generator\n",
        "    with tf.variable_scope('dis',reuse=reuse):\n",
        "        hidden1 = tf.layers.dense(inputs=X,units=128)\n",
        "        # Leaky Relu\n",
        "        alpha = 0.01\n",
        "        hidden1 = tf.maximum(alpha*hidden1,hidden1)\n",
        "        \n",
        "        hidden2 = tf.layers.dense(inputs=hidden1,units=128)\n",
        "        hidden2 = tf.maximum(alpha*hidden2,hidden2)\n",
        "        \n",
        "        logits = tf.layers.dense(hidden2,units=1)\n",
        "        output = tf.sigmoid(logits) # here we use sigmoid function(only 2 outcomes ie. 0 or 1)\n",
        "    \n",
        "        return output, logits   # it gives 2 outputs one is logits value and 2nd is image is real or ake"
      ],
      "execution_count": 0,
      "outputs": []
    },
    {
      "cell_type": "code",
      "metadata": {
        "id": "yB0KStzE0cGk",
        "colab_type": "code",
        "colab": {}
      },
      "source": [
        ""
      ],
      "execution_count": 0,
      "outputs": []
    },
    {
      "cell_type": "markdown",
      "metadata": {
        "id": "5ka_nU9l0jTi",
        "colab_type": "text"
      },
      "source": [
        "\n",
        "Placeholders"
      ]
    },
    {
      "cell_type": "code",
      "metadata": {
        "id": "ER_WJa0u0q7X",
        "colab_type": "code",
        "colab": {}
      },
      "source": [
        "real_images = tf.placeholder(tf.float32,shape=[None,784])# creates the place holder which gives images to the descriminator  \n",
        "# tf.float32 because mnist are numpy arrays,  \n",
        "# 784=28*28  one image dimension\n",
        "\n",
        "\n",
        "z = tf.placeholder(tf.float32,shape=[None,100])\n",
        "# creates the place holder which gives images to the generator\n",
        "# z is a noise, we some noise to generator with [None,100] dimensions.\n"
      ],
      "execution_count": 0,
      "outputs": []
    },
    {
      "cell_type": "code",
      "metadata": {
        "id": "31CJntRT0r0P",
        "colab_type": "code",
        "colab": {}
      },
      "source": [
        ""
      ],
      "execution_count": 0,
      "outputs": []
    },
    {
      "cell_type": "markdown",
      "metadata": {
        "id": "ONRp0Y2U2p2K",
        "colab_type": "text"
      },
      "source": [
        "Generator"
      ]
    },
    {
      "cell_type": "code",
      "metadata": {
        "id": "W2zm9FUW2rW7",
        "colab_type": "code",
        "outputId": "0b1e7a13-fbdf-4917-9b19-ca2b568a8b08",
        "colab": {
          "base_uri": "https://localhost:8080/",
          "height": 139
        }
      },
      "source": [
        "G = generator(z) # call the generator function"
      ],
      "execution_count": 8,
      "outputs": [
        {
          "output_type": "stream",
          "text": [
            "WARNING:tensorflow:From <ipython-input-5-e7685126ebef>:3: dense (from tensorflow.python.layers.core) is deprecated and will be removed in a future version.\n",
            "Instructions for updating:\n",
            "Use keras.layers.Dense instead.\n",
            "WARNING:tensorflow:From /usr/local/lib/python3.6/dist-packages/tensorflow_core/python/layers/core.py:187: Layer.apply (from tensorflow.python.keras.engine.base_layer) is deprecated and will be removed in a future version.\n",
            "Instructions for updating:\n",
            "Please use `layer.__call__` method instead.\n"
          ],
          "name": "stdout"
        }
      ]
    },
    {
      "cell_type": "code",
      "metadata": {
        "id": "kfKlK2S42taN",
        "colab_type": "code",
        "colab": {}
      },
      "source": [
        ""
      ],
      "execution_count": 0,
      "outputs": []
    },
    {
      "cell_type": "markdown",
      "metadata": {
        "id": "HwcazQym8ycz",
        "colab_type": "text"
      },
      "source": [
        "Discriminator"
      ]
    },
    {
      "cell_type": "code",
      "metadata": {
        "id": "JPbduvJF8zH7",
        "colab_type": "code",
        "colab": {}
      },
      "source": [
        "D_output_real , D_logits_real = discriminator(real_images) # call the Discriminator function\n",
        "# 1st give real_images to discriminator to train the model\n",
        "# D_output_real , D_logits_real are output of discriminator on real_images  \n",
        "\n",
        "\n",
        "\n",
        "D_output_fake, D_logits_fake = discriminator(G,reuse=True)\n",
        "# after that give noise to the discriminator for testing (latent data points)\n",
        "# D_output_fake, D_logits_fake are output of discriminator on latent points\n"
      ],
      "execution_count": 0,
      "outputs": []
    },
    {
      "cell_type": "code",
      "metadata": {
        "id": "jlSlIUFC8-Zi",
        "colab_type": "code",
        "colab": {}
      },
      "source": [
        ""
      ],
      "execution_count": 0,
      "outputs": []
    },
    {
      "cell_type": "markdown",
      "metadata": {
        "id": "sstkENKv_MU4",
        "colab_type": "text"
      },
      "source": [
        "Losses"
      ]
    },
    {
      "cell_type": "code",
      "metadata": {
        "id": "4nq7rDl99CS7",
        "colab_type": "code",
        "colab": {}
      },
      "source": [
        "def loss_func(logits_in,labels_in):\n",
        "    return tf.reduce_mean(tf.nn.sigmoid_cross_entropy_with_logits(logits=logits_in,labels=labels_in))\n",
        "# loss function is help us to find out most optimat point in our training time \n",
        "#  sigmoid_cross_entropy is our loss function   "
      ],
      "execution_count": 0,
      "outputs": []
    },
    {
      "cell_type": "code",
      "metadata": {
        "id": "fSDysmplAWO6",
        "colab_type": "code",
        "outputId": "b556cf52-69d1-4068-c43e-b10724f3330d",
        "colab": {
          "base_uri": "https://localhost:8080/",
          "height": 105
        }
      },
      "source": [
        "D_real_loss = loss_func(D_logits_real,tf.ones_like(D_logits_real)* (0.9))\n",
        "D_real_loss\n",
        "\n",
        "# tf.ones_like(D_logits_real) gives 1 number and 0.9 indicates smoothing(near to 1)"
      ],
      "execution_count": 11,
      "outputs": [
        {
          "output_type": "stream",
          "text": [
            "WARNING:tensorflow:From /usr/local/lib/python3.6/dist-packages/tensorflow_core/python/ops/nn_impl.py:183: where (from tensorflow.python.ops.array_ops) is deprecated and will be removed in a future version.\n",
            "Instructions for updating:\n",
            "Use tf.where in 2.0, which has the same broadcast rule as np.where\n"
          ],
          "name": "stdout"
        },
        {
          "output_type": "execute_result",
          "data": {
            "text/plain": [
              "<tf.Tensor 'Mean:0' shape=() dtype=float32>"
            ]
          },
          "metadata": {
            "tags": []
          },
          "execution_count": 11
        }
      ]
    },
    {
      "cell_type": "code",
      "metadata": {
        "id": "5tV2VGjvAfCD",
        "colab_type": "code",
        "outputId": "c0082baf-8eb0-4450-c31c-7c1cc7792e98",
        "colab": {
          "base_uri": "https://localhost:8080/",
          "height": 34
        }
      },
      "source": [
        "D_fake_loss = loss_func(D_logits_fake,tf.zeros_like(D_logits_real))\n",
        "D_fake_loss\n",
        "# tf.zeros_like these are fake so zero(treated as fake)"
      ],
      "execution_count": 12,
      "outputs": [
        {
          "output_type": "execute_result",
          "data": {
            "text/plain": [
              "<tf.Tensor 'Mean_1:0' shape=() dtype=float32>"
            ]
          },
          "metadata": {
            "tags": []
          },
          "execution_count": 12
        }
      ]
    },
    {
      "cell_type": "code",
      "metadata": {
        "id": "mQTCHWzfAkTE",
        "colab_type": "code",
        "outputId": "6c920866-175d-469f-c28a-b21b4293dd30",
        "colab": {
          "base_uri": "https://localhost:8080/",
          "height": 34
        }
      },
      "source": [
        "D_loss = D_real_loss + D_fake_loss\n",
        "D_loss\n"
      ],
      "execution_count": 13,
      "outputs": [
        {
          "output_type": "execute_result",
          "data": {
            "text/plain": [
              "<tf.Tensor 'add:0' shape=() dtype=float32>"
            ]
          },
          "metadata": {
            "tags": []
          },
          "execution_count": 13
        }
      ]
    },
    {
      "cell_type": "code",
      "metadata": {
        "id": "gk-rFXllAoqm",
        "colab_type": "code",
        "outputId": "90996cbf-4546-4ab7-9a18-205c0e4d16d4",
        "colab": {
          "base_uri": "https://localhost:8080/",
          "height": 34
        }
      },
      "source": [
        "G_loss = loss_func(D_logits_fake,tf.ones_like(D_logits_fake))\n",
        "G_loss\n",
        "# generator loss"
      ],
      "execution_count": 14,
      "outputs": [
        {
          "output_type": "execute_result",
          "data": {
            "text/plain": [
              "<tf.Tensor 'Mean_2:0' shape=() dtype=float32>"
            ]
          },
          "metadata": {
            "tags": []
          },
          "execution_count": 14
        }
      ]
    },
    {
      "cell_type": "code",
      "metadata": {
        "id": "vpEgbPT9AsaN",
        "colab_type": "code",
        "colab": {}
      },
      "source": [
        ""
      ],
      "execution_count": 0,
      "outputs": []
    },
    {
      "cell_type": "markdown",
      "metadata": {
        "id": "InS5ESeJNbWT",
        "colab_type": "text"
      },
      "source": [
        "optimizers"
      ]
    },
    {
      "cell_type": "code",
      "metadata": {
        "id": "6b7oNCMGNd1o",
        "colab_type": "code",
        "outputId": "0a5160e6-b333-4ff4-9044-1d5f91d8478c",
        "colab": {
          "base_uri": "https://localhost:8080/",
          "height": 71
        }
      },
      "source": [
        "learning_rate = 0.001\n",
        "tvars = tf.trainable_variables()\n",
        "\n",
        "d_vars = [var for var in tvars if 'dis' in var.name]\n",
        "g_vars = [var for var in tvars if 'gen' in var.name]\n",
        "\n",
        "print([v.name for v in d_vars])\n",
        "print([v.name for v in g_vars])"
      ],
      "execution_count": 15,
      "outputs": [
        {
          "output_type": "stream",
          "text": [
            "['dis/dense/kernel:0', 'dis/dense/bias:0', 'dis/dense_1/kernel:0', 'dis/dense_1/bias:0', 'dis/dense_2/kernel:0', 'dis/dense_2/bias:0']\n",
            "['gen/dense/kernel:0', 'gen/dense/bias:0', 'gen/dense_1/kernel:0', 'gen/dense_1/bias:0', 'gen/dense_2/kernel:0', 'gen/dense_2/bias:0']\n"
          ],
          "name": "stdout"
        }
      ]
    },
    {
      "cell_type": "code",
      "metadata": {
        "id": "dDxxz6aQNl9l",
        "colab_type": "code",
        "outputId": "f321f524-6ab5-45f3-be7b-53c43b26483a",
        "colab": {
          "base_uri": "https://localhost:8080/",
          "height": 34
        }
      },
      "source": [
        "D_trainer = tf.train.AdamOptimizer(learning_rate).minimize(D_loss, var_list=d_vars)\n",
        "D_trainer\n"
      ],
      "execution_count": 16,
      "outputs": [
        {
          "output_type": "execute_result",
          "data": {
            "text/plain": [
              "<tf.Operation 'Adam' type=NoOp>"
            ]
          },
          "metadata": {
            "tags": []
          },
          "execution_count": 16
        }
      ]
    },
    {
      "cell_type": "code",
      "metadata": {
        "id": "sab0GYJoNslS",
        "colab_type": "code",
        "outputId": "bf0b8127-0a1f-4b8e-aaeb-b5d0859f1c4a",
        "colab": {
          "base_uri": "https://localhost:8080/",
          "height": 34
        }
      },
      "source": [
        "G_trainer = tf.train.AdamOptimizer(learning_rate).minimize(G_loss, var_list=g_vars)\n",
        "G_trainer\n"
      ],
      "execution_count": 17,
      "outputs": [
        {
          "output_type": "execute_result",
          "data": {
            "text/plain": [
              "<tf.Operation 'Adam_1' type=NoOp>"
            ]
          },
          "metadata": {
            "tags": []
          },
          "execution_count": 17
        }
      ]
    },
    {
      "cell_type": "code",
      "metadata": {
        "id": "lgHqbKE9Nxng",
        "colab_type": "code",
        "colab": {}
      },
      "source": [
        "# Training Session\n",
        "\n",
        "batch_size = 100\n",
        "epochs = 500\n",
        "init = tf.global_variables_initializer()\n",
        "saver = tf.train.Saver(var_list=g_vars)"
      ],
      "execution_count": 0,
      "outputs": []
    },
    {
      "cell_type": "code",
      "metadata": {
        "id": "IH9BR3kLOEiS",
        "colab_type": "code",
        "outputId": "e540759a-3d87-4143-80d4-cdd675ad48d3",
        "colab": {
          "base_uri": "https://localhost:8080/",
          "height": 1000
        }
      },
      "source": [
        "\n",
        "# Save a sample per epoch\n",
        "samples = []\n",
        "\n",
        "\n",
        "\n",
        "with tf.Session() as sess:\n",
        "    \n",
        "    sess.run(init)\n",
        "    \n",
        "    # Recall an epoch is an entire run through the training data\n",
        "    for e in range(epochs):\n",
        "        # // indicates classic division\n",
        "        num_batches = mnist.train.num_examples // batch_size\n",
        "        \n",
        "        for i in range(num_batches):\n",
        "            \n",
        "            # Grab batch of images\n",
        "            batch = mnist.train.next_batch(batch_size)\n",
        "            \n",
        "            # Get images, reshape and rescale to pass to D\n",
        "            batch_images = batch[0].reshape((batch_size, 784))\n",
        "            batch_images = batch_images*2 - 1\n",
        "            \n",
        "            # Z (random latent noise data for Generator)\n",
        "            # -1 to 1 because of tanh activation\n",
        "            batch_z = np.random.uniform(-1, 1, size=(batch_size, 100))\n",
        "            \n",
        "            # Run optimizers, no need to save outputs, we won't use them\n",
        "            _ = sess.run(D_trainer, feed_dict={real_images: batch_images, z: batch_z})\n",
        "            _ = sess.run(G_trainer, feed_dict={z: batch_z})\n",
        "        \n",
        "            \n",
        "        print(\"Currently on Epoch {} of {} total...\".format(e+1, epochs))\n",
        "        \n",
        "        # Sample from generator as we're training for viewing afterwards\n",
        "        sample_z = np.random.uniform(-1, 1, size=(1, 100))\n",
        "        gen_sample = sess.run(generator(z ,reuse=True),feed_dict={z: sample_z})\n",
        "        \n",
        "        samples.append(gen_sample)\n",
        "        \n",
        "        saver.save(sess,'/content/drive/My Drive/Colab Notebooks/MNIST/model_500_epoch_model_ckpt/500_epoch_model.ckpt')"
      ],
      "execution_count": 19,
      "outputs": [
        {
          "output_type": "stream",
          "text": [
            "Currently on Epoch 1 of 500 total...\n",
            "Currently on Epoch 2 of 500 total...\n",
            "Currently on Epoch 3 of 500 total...\n",
            "Currently on Epoch 4 of 500 total...\n",
            "Currently on Epoch 5 of 500 total...\n",
            "Currently on Epoch 6 of 500 total...\n",
            "Currently on Epoch 7 of 500 total...\n",
            "Currently on Epoch 8 of 500 total...\n",
            "Currently on Epoch 9 of 500 total...\n",
            "Currently on Epoch 10 of 500 total...\n",
            "Currently on Epoch 11 of 500 total...\n",
            "Currently on Epoch 12 of 500 total...\n",
            "Currently on Epoch 13 of 500 total...\n",
            "Currently on Epoch 14 of 500 total...\n",
            "Currently on Epoch 15 of 500 total...\n",
            "Currently on Epoch 16 of 500 total...\n",
            "Currently on Epoch 17 of 500 total...\n",
            "Currently on Epoch 18 of 500 total...\n",
            "Currently on Epoch 19 of 500 total...\n",
            "Currently on Epoch 20 of 500 total...\n",
            "Currently on Epoch 21 of 500 total...\n",
            "Currently on Epoch 22 of 500 total...\n",
            "Currently on Epoch 23 of 500 total...\n",
            "Currently on Epoch 24 of 500 total...\n",
            "Currently on Epoch 25 of 500 total...\n",
            "Currently on Epoch 26 of 500 total...\n",
            "Currently on Epoch 27 of 500 total...\n",
            "Currently on Epoch 28 of 500 total...\n",
            "Currently on Epoch 29 of 500 total...\n",
            "Currently on Epoch 30 of 500 total...\n",
            "Currently on Epoch 31 of 500 total...\n",
            "Currently on Epoch 32 of 500 total...\n",
            "Currently on Epoch 33 of 500 total...\n",
            "Currently on Epoch 34 of 500 total...\n",
            "Currently on Epoch 35 of 500 total...\n",
            "Currently on Epoch 36 of 500 total...\n",
            "Currently on Epoch 37 of 500 total...\n",
            "Currently on Epoch 38 of 500 total...\n",
            "Currently on Epoch 39 of 500 total...\n",
            "Currently on Epoch 40 of 500 total...\n",
            "Currently on Epoch 41 of 500 total...\n",
            "Currently on Epoch 42 of 500 total...\n",
            "Currently on Epoch 43 of 500 total...\n",
            "Currently on Epoch 44 of 500 total...\n",
            "Currently on Epoch 45 of 500 total...\n",
            "Currently on Epoch 46 of 500 total...\n",
            "Currently on Epoch 47 of 500 total...\n",
            "Currently on Epoch 48 of 500 total...\n",
            "Currently on Epoch 49 of 500 total...\n",
            "Currently on Epoch 50 of 500 total...\n",
            "Currently on Epoch 51 of 500 total...\n",
            "Currently on Epoch 52 of 500 total...\n",
            "Currently on Epoch 53 of 500 total...\n",
            "Currently on Epoch 54 of 500 total...\n",
            "Currently on Epoch 55 of 500 total...\n",
            "Currently on Epoch 56 of 500 total...\n",
            "Currently on Epoch 57 of 500 total...\n",
            "Currently on Epoch 58 of 500 total...\n",
            "Currently on Epoch 59 of 500 total...\n",
            "Currently on Epoch 60 of 500 total...\n",
            "Currently on Epoch 61 of 500 total...\n",
            "Currently on Epoch 62 of 500 total...\n",
            "Currently on Epoch 63 of 500 total...\n",
            "Currently on Epoch 64 of 500 total...\n",
            "Currently on Epoch 65 of 500 total...\n",
            "Currently on Epoch 66 of 500 total...\n",
            "Currently on Epoch 67 of 500 total...\n",
            "Currently on Epoch 68 of 500 total...\n",
            "Currently on Epoch 69 of 500 total...\n",
            "Currently on Epoch 70 of 500 total...\n",
            "Currently on Epoch 71 of 500 total...\n",
            "Currently on Epoch 72 of 500 total...\n",
            "Currently on Epoch 73 of 500 total...\n",
            "Currently on Epoch 74 of 500 total...\n",
            "Currently on Epoch 75 of 500 total...\n",
            "Currently on Epoch 76 of 500 total...\n",
            "Currently on Epoch 77 of 500 total...\n",
            "Currently on Epoch 78 of 500 total...\n",
            "Currently on Epoch 79 of 500 total...\n",
            "Currently on Epoch 80 of 500 total...\n",
            "Currently on Epoch 81 of 500 total...\n",
            "Currently on Epoch 82 of 500 total...\n",
            "Currently on Epoch 83 of 500 total...\n",
            "Currently on Epoch 84 of 500 total...\n",
            "Currently on Epoch 85 of 500 total...\n",
            "Currently on Epoch 86 of 500 total...\n",
            "Currently on Epoch 87 of 500 total...\n",
            "Currently on Epoch 88 of 500 total...\n",
            "Currently on Epoch 89 of 500 total...\n",
            "Currently on Epoch 90 of 500 total...\n",
            "Currently on Epoch 91 of 500 total...\n",
            "Currently on Epoch 92 of 500 total...\n",
            "Currently on Epoch 93 of 500 total...\n",
            "Currently on Epoch 94 of 500 total...\n",
            "Currently on Epoch 95 of 500 total...\n",
            "Currently on Epoch 96 of 500 total...\n",
            "Currently on Epoch 97 of 500 total...\n",
            "Currently on Epoch 98 of 500 total...\n",
            "Currently on Epoch 99 of 500 total...\n",
            "Currently on Epoch 100 of 500 total...\n",
            "Currently on Epoch 101 of 500 total...\n",
            "Currently on Epoch 102 of 500 total...\n",
            "Currently on Epoch 103 of 500 total...\n",
            "Currently on Epoch 104 of 500 total...\n",
            "Currently on Epoch 105 of 500 total...\n",
            "Currently on Epoch 106 of 500 total...\n",
            "Currently on Epoch 107 of 500 total...\n",
            "Currently on Epoch 108 of 500 total...\n",
            "Currently on Epoch 109 of 500 total...\n",
            "Currently on Epoch 110 of 500 total...\n",
            "Currently on Epoch 111 of 500 total...\n",
            "Currently on Epoch 112 of 500 total...\n",
            "Currently on Epoch 113 of 500 total...\n",
            "Currently on Epoch 114 of 500 total...\n",
            "Currently on Epoch 115 of 500 total...\n",
            "Currently on Epoch 116 of 500 total...\n",
            "Currently on Epoch 117 of 500 total...\n",
            "Currently on Epoch 118 of 500 total...\n",
            "Currently on Epoch 119 of 500 total...\n",
            "Currently on Epoch 120 of 500 total...\n",
            "Currently on Epoch 121 of 500 total...\n",
            "Currently on Epoch 122 of 500 total...\n",
            "Currently on Epoch 123 of 500 total...\n",
            "Currently on Epoch 124 of 500 total...\n",
            "Currently on Epoch 125 of 500 total...\n",
            "Currently on Epoch 126 of 500 total...\n",
            "Currently on Epoch 127 of 500 total...\n",
            "Currently on Epoch 128 of 500 total...\n",
            "Currently on Epoch 129 of 500 total...\n",
            "Currently on Epoch 130 of 500 total...\n",
            "Currently on Epoch 131 of 500 total...\n",
            "Currently on Epoch 132 of 500 total...\n",
            "Currently on Epoch 133 of 500 total...\n",
            "Currently on Epoch 134 of 500 total...\n",
            "Currently on Epoch 135 of 500 total...\n",
            "Currently on Epoch 136 of 500 total...\n",
            "Currently on Epoch 137 of 500 total...\n",
            "Currently on Epoch 138 of 500 total...\n",
            "Currently on Epoch 139 of 500 total...\n",
            "Currently on Epoch 140 of 500 total...\n",
            "Currently on Epoch 141 of 500 total...\n",
            "Currently on Epoch 142 of 500 total...\n",
            "Currently on Epoch 143 of 500 total...\n",
            "Currently on Epoch 144 of 500 total...\n",
            "Currently on Epoch 145 of 500 total...\n",
            "Currently on Epoch 146 of 500 total...\n",
            "Currently on Epoch 147 of 500 total...\n",
            "Currently on Epoch 148 of 500 total...\n",
            "Currently on Epoch 149 of 500 total...\n",
            "Currently on Epoch 150 of 500 total...\n",
            "Currently on Epoch 151 of 500 total...\n",
            "Currently on Epoch 152 of 500 total...\n",
            "Currently on Epoch 153 of 500 total...\n",
            "Currently on Epoch 154 of 500 total...\n",
            "Currently on Epoch 155 of 500 total...\n",
            "Currently on Epoch 156 of 500 total...\n",
            "Currently on Epoch 157 of 500 total...\n",
            "Currently on Epoch 158 of 500 total...\n",
            "Currently on Epoch 159 of 500 total...\n",
            "Currently on Epoch 160 of 500 total...\n",
            "Currently on Epoch 161 of 500 total...\n",
            "Currently on Epoch 162 of 500 total...\n",
            "Currently on Epoch 163 of 500 total...\n",
            "Currently on Epoch 164 of 500 total...\n",
            "Currently on Epoch 165 of 500 total...\n",
            "Currently on Epoch 166 of 500 total...\n",
            "Currently on Epoch 167 of 500 total...\n",
            "Currently on Epoch 168 of 500 total...\n",
            "Currently on Epoch 169 of 500 total...\n",
            "Currently on Epoch 170 of 500 total...\n",
            "Currently on Epoch 171 of 500 total...\n",
            "Currently on Epoch 172 of 500 total...\n",
            "Currently on Epoch 173 of 500 total...\n",
            "Currently on Epoch 174 of 500 total...\n",
            "Currently on Epoch 175 of 500 total...\n",
            "Currently on Epoch 176 of 500 total...\n",
            "Currently on Epoch 177 of 500 total...\n",
            "Currently on Epoch 178 of 500 total...\n",
            "Currently on Epoch 179 of 500 total...\n",
            "Currently on Epoch 180 of 500 total...\n",
            "Currently on Epoch 181 of 500 total...\n",
            "Currently on Epoch 182 of 500 total...\n",
            "Currently on Epoch 183 of 500 total...\n",
            "Currently on Epoch 184 of 500 total...\n",
            "Currently on Epoch 185 of 500 total...\n",
            "Currently on Epoch 186 of 500 total...\n",
            "Currently on Epoch 187 of 500 total...\n",
            "Currently on Epoch 188 of 500 total...\n",
            "Currently on Epoch 189 of 500 total...\n",
            "Currently on Epoch 190 of 500 total...\n",
            "Currently on Epoch 191 of 500 total...\n",
            "Currently on Epoch 192 of 500 total...\n",
            "Currently on Epoch 193 of 500 total...\n",
            "Currently on Epoch 194 of 500 total...\n",
            "Currently on Epoch 195 of 500 total...\n",
            "Currently on Epoch 196 of 500 total...\n",
            "Currently on Epoch 197 of 500 total...\n",
            "Currently on Epoch 198 of 500 total...\n",
            "Currently on Epoch 199 of 500 total...\n",
            "Currently on Epoch 200 of 500 total...\n",
            "Currently on Epoch 201 of 500 total...\n",
            "Currently on Epoch 202 of 500 total...\n",
            "Currently on Epoch 203 of 500 total...\n",
            "Currently on Epoch 204 of 500 total...\n",
            "Currently on Epoch 205 of 500 total...\n",
            "Currently on Epoch 206 of 500 total...\n",
            "Currently on Epoch 207 of 500 total...\n",
            "Currently on Epoch 208 of 500 total...\n",
            "Currently on Epoch 209 of 500 total...\n",
            "Currently on Epoch 210 of 500 total...\n",
            "Currently on Epoch 211 of 500 total...\n",
            "Currently on Epoch 212 of 500 total...\n",
            "Currently on Epoch 213 of 500 total...\n",
            "Currently on Epoch 214 of 500 total...\n",
            "Currently on Epoch 215 of 500 total...\n",
            "Currently on Epoch 216 of 500 total...\n",
            "Currently on Epoch 217 of 500 total...\n",
            "Currently on Epoch 218 of 500 total...\n",
            "Currently on Epoch 219 of 500 total...\n",
            "Currently on Epoch 220 of 500 total...\n",
            "Currently on Epoch 221 of 500 total...\n",
            "Currently on Epoch 222 of 500 total...\n",
            "Currently on Epoch 223 of 500 total...\n",
            "Currently on Epoch 224 of 500 total...\n",
            "Currently on Epoch 225 of 500 total...\n",
            "Currently on Epoch 226 of 500 total...\n",
            "Currently on Epoch 227 of 500 total...\n",
            "Currently on Epoch 228 of 500 total...\n",
            "Currently on Epoch 229 of 500 total...\n",
            "Currently on Epoch 230 of 500 total...\n",
            "Currently on Epoch 231 of 500 total...\n",
            "Currently on Epoch 232 of 500 total...\n",
            "Currently on Epoch 233 of 500 total...\n",
            "Currently on Epoch 234 of 500 total...\n",
            "Currently on Epoch 235 of 500 total...\n",
            "Currently on Epoch 236 of 500 total...\n",
            "Currently on Epoch 237 of 500 total...\n",
            "Currently on Epoch 238 of 500 total...\n",
            "Currently on Epoch 239 of 500 total...\n",
            "Currently on Epoch 240 of 500 total...\n",
            "Currently on Epoch 241 of 500 total...\n",
            "Currently on Epoch 242 of 500 total...\n",
            "Currently on Epoch 243 of 500 total...\n",
            "Currently on Epoch 244 of 500 total...\n",
            "Currently on Epoch 245 of 500 total...\n",
            "Currently on Epoch 246 of 500 total...\n",
            "Currently on Epoch 247 of 500 total...\n",
            "Currently on Epoch 248 of 500 total...\n",
            "Currently on Epoch 249 of 500 total...\n",
            "Currently on Epoch 250 of 500 total...\n",
            "Currently on Epoch 251 of 500 total...\n",
            "Currently on Epoch 252 of 500 total...\n",
            "Currently on Epoch 253 of 500 total...\n",
            "Currently on Epoch 254 of 500 total...\n",
            "Currently on Epoch 255 of 500 total...\n",
            "Currently on Epoch 256 of 500 total...\n",
            "Currently on Epoch 257 of 500 total...\n",
            "Currently on Epoch 258 of 500 total...\n",
            "Currently on Epoch 259 of 500 total...\n",
            "Currently on Epoch 260 of 500 total...\n",
            "Currently on Epoch 261 of 500 total...\n",
            "Currently on Epoch 262 of 500 total...\n",
            "Currently on Epoch 263 of 500 total...\n",
            "Currently on Epoch 264 of 500 total...\n",
            "Currently on Epoch 265 of 500 total...\n",
            "Currently on Epoch 266 of 500 total...\n",
            "Currently on Epoch 267 of 500 total...\n",
            "Currently on Epoch 268 of 500 total...\n",
            "Currently on Epoch 269 of 500 total...\n",
            "Currently on Epoch 270 of 500 total...\n",
            "Currently on Epoch 271 of 500 total...\n",
            "Currently on Epoch 272 of 500 total...\n",
            "Currently on Epoch 273 of 500 total...\n",
            "Currently on Epoch 274 of 500 total...\n",
            "Currently on Epoch 275 of 500 total...\n",
            "Currently on Epoch 276 of 500 total...\n",
            "Currently on Epoch 277 of 500 total...\n",
            "Currently on Epoch 278 of 500 total...\n",
            "Currently on Epoch 279 of 500 total...\n",
            "Currently on Epoch 280 of 500 total...\n",
            "Currently on Epoch 281 of 500 total...\n",
            "Currently on Epoch 282 of 500 total...\n",
            "Currently on Epoch 283 of 500 total...\n",
            "Currently on Epoch 284 of 500 total...\n",
            "Currently on Epoch 285 of 500 total...\n",
            "Currently on Epoch 286 of 500 total...\n",
            "Currently on Epoch 287 of 500 total...\n",
            "Currently on Epoch 288 of 500 total...\n",
            "Currently on Epoch 289 of 500 total...\n",
            "Currently on Epoch 290 of 500 total...\n",
            "Currently on Epoch 291 of 500 total...\n",
            "Currently on Epoch 292 of 500 total...\n",
            "Currently on Epoch 293 of 500 total...\n",
            "Currently on Epoch 294 of 500 total...\n",
            "Currently on Epoch 295 of 500 total...\n",
            "Currently on Epoch 296 of 500 total...\n",
            "Currently on Epoch 297 of 500 total...\n",
            "Currently on Epoch 298 of 500 total...\n",
            "Currently on Epoch 299 of 500 total...\n",
            "Currently on Epoch 300 of 500 total...\n",
            "Currently on Epoch 301 of 500 total...\n",
            "Currently on Epoch 302 of 500 total...\n",
            "Currently on Epoch 303 of 500 total...\n",
            "Currently on Epoch 304 of 500 total...\n",
            "Currently on Epoch 305 of 500 total...\n",
            "Currently on Epoch 306 of 500 total...\n",
            "Currently on Epoch 307 of 500 total...\n",
            "Currently on Epoch 308 of 500 total...\n",
            "Currently on Epoch 309 of 500 total...\n",
            "Currently on Epoch 310 of 500 total...\n",
            "Currently on Epoch 311 of 500 total...\n",
            "Currently on Epoch 312 of 500 total...\n",
            "Currently on Epoch 313 of 500 total...\n",
            "Currently on Epoch 314 of 500 total...\n",
            "Currently on Epoch 315 of 500 total...\n",
            "Currently on Epoch 316 of 500 total...\n",
            "Currently on Epoch 317 of 500 total...\n",
            "Currently on Epoch 318 of 500 total...\n",
            "Currently on Epoch 319 of 500 total...\n",
            "Currently on Epoch 320 of 500 total...\n",
            "Currently on Epoch 321 of 500 total...\n",
            "Currently on Epoch 322 of 500 total...\n",
            "Currently on Epoch 323 of 500 total...\n",
            "Currently on Epoch 324 of 500 total...\n",
            "Currently on Epoch 325 of 500 total...\n",
            "Currently on Epoch 326 of 500 total...\n",
            "Currently on Epoch 327 of 500 total...\n",
            "Currently on Epoch 328 of 500 total...\n",
            "Currently on Epoch 329 of 500 total...\n",
            "Currently on Epoch 330 of 500 total...\n",
            "Currently on Epoch 331 of 500 total...\n",
            "Currently on Epoch 332 of 500 total...\n",
            "Currently on Epoch 333 of 500 total...\n",
            "Currently on Epoch 334 of 500 total...\n",
            "Currently on Epoch 335 of 500 total...\n",
            "Currently on Epoch 336 of 500 total...\n",
            "Currently on Epoch 337 of 500 total...\n",
            "Currently on Epoch 338 of 500 total...\n",
            "Currently on Epoch 339 of 500 total...\n",
            "Currently on Epoch 340 of 500 total...\n",
            "Currently on Epoch 341 of 500 total...\n",
            "Currently on Epoch 342 of 500 total...\n",
            "Currently on Epoch 343 of 500 total...\n",
            "Currently on Epoch 344 of 500 total...\n",
            "Currently on Epoch 345 of 500 total...\n",
            "Currently on Epoch 346 of 500 total...\n",
            "Currently on Epoch 347 of 500 total...\n",
            "Currently on Epoch 348 of 500 total...\n",
            "Currently on Epoch 349 of 500 total...\n",
            "Currently on Epoch 350 of 500 total...\n",
            "Currently on Epoch 351 of 500 total...\n",
            "Currently on Epoch 352 of 500 total...\n",
            "Currently on Epoch 353 of 500 total...\n",
            "Currently on Epoch 354 of 500 total...\n",
            "Currently on Epoch 355 of 500 total...\n",
            "Currently on Epoch 356 of 500 total...\n",
            "Currently on Epoch 357 of 500 total...\n",
            "Currently on Epoch 358 of 500 total...\n",
            "Currently on Epoch 359 of 500 total...\n",
            "Currently on Epoch 360 of 500 total...\n",
            "Currently on Epoch 361 of 500 total...\n",
            "Currently on Epoch 362 of 500 total...\n",
            "Currently on Epoch 363 of 500 total...\n",
            "Currently on Epoch 364 of 500 total...\n",
            "Currently on Epoch 365 of 500 total...\n",
            "Currently on Epoch 366 of 500 total...\n",
            "Currently on Epoch 367 of 500 total...\n",
            "Currently on Epoch 368 of 500 total...\n",
            "Currently on Epoch 369 of 500 total...\n",
            "Currently on Epoch 370 of 500 total...\n",
            "Currently on Epoch 371 of 500 total...\n",
            "Currently on Epoch 372 of 500 total...\n",
            "Currently on Epoch 373 of 500 total...\n",
            "Currently on Epoch 374 of 500 total...\n",
            "Currently on Epoch 375 of 500 total...\n",
            "Currently on Epoch 376 of 500 total...\n",
            "Currently on Epoch 377 of 500 total...\n",
            "Currently on Epoch 378 of 500 total...\n",
            "Currently on Epoch 379 of 500 total...\n",
            "Currently on Epoch 380 of 500 total...\n",
            "Currently on Epoch 381 of 500 total...\n",
            "Currently on Epoch 382 of 500 total...\n",
            "Currently on Epoch 383 of 500 total...\n",
            "Currently on Epoch 384 of 500 total...\n",
            "Currently on Epoch 385 of 500 total...\n",
            "Currently on Epoch 386 of 500 total...\n",
            "Currently on Epoch 387 of 500 total...\n",
            "Currently on Epoch 388 of 500 total...\n",
            "Currently on Epoch 389 of 500 total...\n",
            "Currently on Epoch 390 of 500 total...\n",
            "Currently on Epoch 391 of 500 total...\n",
            "Currently on Epoch 392 of 500 total...\n",
            "Currently on Epoch 393 of 500 total...\n",
            "Currently on Epoch 394 of 500 total...\n",
            "Currently on Epoch 395 of 500 total...\n",
            "Currently on Epoch 396 of 500 total...\n",
            "Currently on Epoch 397 of 500 total...\n",
            "Currently on Epoch 398 of 500 total...\n",
            "Currently on Epoch 399 of 500 total...\n",
            "Currently on Epoch 400 of 500 total...\n",
            "Currently on Epoch 401 of 500 total...\n",
            "Currently on Epoch 402 of 500 total...\n",
            "Currently on Epoch 403 of 500 total...\n",
            "Currently on Epoch 404 of 500 total...\n",
            "Currently on Epoch 405 of 500 total...\n",
            "Currently on Epoch 406 of 500 total...\n",
            "Currently on Epoch 407 of 500 total...\n",
            "Currently on Epoch 408 of 500 total...\n",
            "Currently on Epoch 409 of 500 total...\n",
            "Currently on Epoch 410 of 500 total...\n",
            "Currently on Epoch 411 of 500 total...\n",
            "Currently on Epoch 412 of 500 total...\n",
            "Currently on Epoch 413 of 500 total...\n",
            "Currently on Epoch 414 of 500 total...\n",
            "Currently on Epoch 415 of 500 total...\n",
            "Currently on Epoch 416 of 500 total...\n",
            "Currently on Epoch 417 of 500 total...\n",
            "Currently on Epoch 418 of 500 total...\n",
            "Currently on Epoch 419 of 500 total...\n",
            "Currently on Epoch 420 of 500 total...\n",
            "Currently on Epoch 421 of 500 total...\n",
            "Currently on Epoch 422 of 500 total...\n",
            "Currently on Epoch 423 of 500 total...\n",
            "Currently on Epoch 424 of 500 total...\n",
            "Currently on Epoch 425 of 500 total...\n",
            "Currently on Epoch 426 of 500 total...\n",
            "Currently on Epoch 427 of 500 total...\n",
            "Currently on Epoch 428 of 500 total...\n",
            "Currently on Epoch 429 of 500 total...\n",
            "Currently on Epoch 430 of 500 total...\n",
            "Currently on Epoch 431 of 500 total...\n",
            "Currently on Epoch 432 of 500 total...\n",
            "Currently on Epoch 433 of 500 total...\n",
            "Currently on Epoch 434 of 500 total...\n",
            "Currently on Epoch 435 of 500 total...\n",
            "Currently on Epoch 436 of 500 total...\n",
            "Currently on Epoch 437 of 500 total...\n",
            "Currently on Epoch 438 of 500 total...\n",
            "Currently on Epoch 439 of 500 total...\n",
            "Currently on Epoch 440 of 500 total...\n",
            "Currently on Epoch 441 of 500 total...\n",
            "Currently on Epoch 442 of 500 total...\n",
            "Currently on Epoch 443 of 500 total...\n",
            "Currently on Epoch 444 of 500 total...\n",
            "Currently on Epoch 445 of 500 total...\n",
            "Currently on Epoch 446 of 500 total...\n",
            "Currently on Epoch 447 of 500 total...\n",
            "Currently on Epoch 448 of 500 total...\n",
            "Currently on Epoch 449 of 500 total...\n",
            "Currently on Epoch 450 of 500 total...\n",
            "Currently on Epoch 451 of 500 total...\n",
            "Currently on Epoch 452 of 500 total...\n",
            "Currently on Epoch 453 of 500 total...\n",
            "Currently on Epoch 454 of 500 total...\n",
            "Currently on Epoch 455 of 500 total...\n",
            "Currently on Epoch 456 of 500 total...\n",
            "Currently on Epoch 457 of 500 total...\n",
            "Currently on Epoch 458 of 500 total...\n",
            "Currently on Epoch 459 of 500 total...\n",
            "Currently on Epoch 460 of 500 total...\n",
            "Currently on Epoch 461 of 500 total...\n",
            "Currently on Epoch 462 of 500 total...\n",
            "Currently on Epoch 463 of 500 total...\n",
            "Currently on Epoch 464 of 500 total...\n",
            "Currently on Epoch 465 of 500 total...\n",
            "Currently on Epoch 466 of 500 total...\n",
            "Currently on Epoch 467 of 500 total...\n",
            "Currently on Epoch 468 of 500 total...\n",
            "Currently on Epoch 469 of 500 total...\n",
            "Currently on Epoch 470 of 500 total...\n",
            "Currently on Epoch 471 of 500 total...\n",
            "Currently on Epoch 472 of 500 total...\n",
            "Currently on Epoch 473 of 500 total...\n",
            "Currently on Epoch 474 of 500 total...\n",
            "Currently on Epoch 475 of 500 total...\n",
            "Currently on Epoch 476 of 500 total...\n",
            "Currently on Epoch 477 of 500 total...\n",
            "Currently on Epoch 478 of 500 total...\n",
            "Currently on Epoch 479 of 500 total...\n",
            "Currently on Epoch 480 of 500 total...\n",
            "Currently on Epoch 481 of 500 total...\n",
            "Currently on Epoch 482 of 500 total...\n",
            "Currently on Epoch 483 of 500 total...\n",
            "Currently on Epoch 484 of 500 total...\n",
            "Currently on Epoch 485 of 500 total...\n",
            "Currently on Epoch 486 of 500 total...\n",
            "Currently on Epoch 487 of 500 total...\n",
            "Currently on Epoch 488 of 500 total...\n",
            "Currently on Epoch 489 of 500 total...\n",
            "Currently on Epoch 490 of 500 total...\n",
            "Currently on Epoch 491 of 500 total...\n",
            "Currently on Epoch 492 of 500 total...\n",
            "Currently on Epoch 493 of 500 total...\n",
            "Currently on Epoch 494 of 500 total...\n",
            "Currently on Epoch 495 of 500 total...\n",
            "Currently on Epoch 496 of 500 total...\n",
            "Currently on Epoch 497 of 500 total...\n",
            "Currently on Epoch 498 of 500 total...\n",
            "Currently on Epoch 499 of 500 total...\n",
            "Currently on Epoch 500 of 500 total...\n"
          ],
          "name": "stdout"
        }
      ]
    },
    {
      "cell_type": "code",
      "metadata": {
        "id": "Y9eEkUoHTqPg",
        "colab_type": "code",
        "outputId": "ec3173db-1606-4ccd-d5a2-cfdbc37852ae",
        "colab": {
          "base_uri": "https://localhost:8080/",
          "height": 54
        }
      },
      "source": [
        "saver = tf.train.Saver(var_list=g_vars)\n",
        "\n",
        "new_samples = []\n",
        "with tf.Session() as sess:\n",
        "    \n",
        "    saver.restore(sess,'/content/drive/My Drive/Colab Notebooks/MNIST/model_500_epoch_model_ckpt/500_epoch_model.ckpt')\n",
        "    \n",
        "    for x in range(5):\n",
        "        sample_z = np.random.uniform(-1,1,size=(1,100))\n",
        "        gen_sample = sess.run(generator(z,reuse=True),feed_dict={z:sample_z})\n",
        "        \n",
        "        new_samples.append(gen_sample)\n"
      ],
      "execution_count": 20,
      "outputs": [
        {
          "output_type": "stream",
          "text": [
            "INFO:tensorflow:Restoring parameters from /content/drive/My Drive/Colab Notebooks/MNIST/model_500_epoch_model_ckpt/500_epoch_model.ckpt\n"
          ],
          "name": "stdout"
        }
      ]
    },
    {
      "cell_type": "code",
      "metadata": {
        "id": "Rks2Yz0AOMtA",
        "colab_type": "code",
        "outputId": "f1c55726-ed9b-4be3-ef1c-ee5a8af0bf00",
        "colab": {
          "base_uri": "https://localhost:8080/",
          "height": 282
        }
      },
      "source": [
        "plt.imshow(samples[0].reshape(28,28),cmap='Greys')\n",
        "\n"
      ],
      "execution_count": 21,
      "outputs": [
        {
          "output_type": "execute_result",
          "data": {
            "text/plain": [
              "<matplotlib.image.AxesImage at 0x7fe208573fd0>"
            ]
          },
          "metadata": {
            "tags": []
          },
          "execution_count": 21
        },
        {
          "output_type": "display_data",
          "data": {
            "image/png": "[encoded data removed]",
            "text/plain": [
              "<Figure size 432x288 with 1 Axes>"
            ]
          },
          "metadata": {
            "tags": []
          }
        }
      ]
    },
    {
      "cell_type": "code",
      "metadata": {
        "id": "nli7tDk1TUeC",
        "colab_type": "code",
        "colab": {}
      },
      "source": [
        ""
      ],
      "execution_count": 0,
      "outputs": []
    }
  ]
}